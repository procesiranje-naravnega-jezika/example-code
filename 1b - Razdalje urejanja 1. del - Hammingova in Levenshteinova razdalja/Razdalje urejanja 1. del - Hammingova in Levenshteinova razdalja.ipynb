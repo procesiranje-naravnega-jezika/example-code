{
 "cells": [
  {
   "cell_type": "code",
   "execution_count": null,
   "id": "7413a7f3",
   "metadata": {},
   "outputs": [],
   "source": [
    "!pip install numpy"
   ]
  },
  {
   "cell_type": "code",
   "execution_count": 1,
   "id": "32b09d35",
   "metadata": {},
   "outputs": [],
   "source": [
    "import numpy as np"
   ]
  },
  {
   "cell_type": "markdown",
   "id": "33339a2f",
   "metadata": {},
   "source": [
    "# Hammingova razdalja"
   ]
  },
  {
   "cell_type": "code",
   "execution_count": 2,
   "id": "70c5a86c",
   "metadata": {},
   "outputs": [],
   "source": [
    "# Funkcija za izračun Hammingove razdalje\n",
    "# Vhod: dva niza istih velikosti\n",
    "# Izhod: vrednost Hammingove razdalje\n",
    "\n",
    "def ham(a, b):\n",
    "    # če sta niza različnih dolžin, potem Hammingove razdalje ne moremo izračunati, zato vrnemo -1 \n",
    "    if(len(a) != len(b)):\n",
    "        return -1\n",
    "    \n",
    "    distance = 0 \n",
    "    \n",
    "    # prehod čez vsak znak v nizu\n",
    "    for n in range(len(a)): \n",
    "        # če sta istoležna znaka različna, povečaj vrednost razdalje\n",
    "        if(a[n] != b[n]):\n",
    "            distance += 1\n",
    "    return distance"
   ]
  },
  {
   "cell_type": "markdown",
   "id": "915c9206",
   "metadata": {},
   "source": [
    "### Primeri izračunov Hammingove razdalje\n"
   ]
  },
  {
   "cell_type": "code",
   "execution_count": 3,
   "id": "fc1ab6ac",
   "metadata": {},
   "outputs": [
    {
     "data": {
      "text/plain": [
       "6"
      ]
     },
     "execution_count": 3,
     "metadata": {},
     "output_type": "execute_result"
    }
   ],
   "source": [
    "a = 'rezultat'\n",
    "b = 'konzulat'\n",
    "ham(a, b)"
   ]
  },
  {
   "cell_type": "code",
   "execution_count": 4,
   "id": "4741027b",
   "metadata": {},
   "outputs": [
    {
     "data": {
      "text/plain": [
       "0"
      ]
     },
     "execution_count": 4,
     "metadata": {},
     "output_type": "execute_result"
    }
   ],
   "source": [
    "a = 'rezultat'\n",
    "b = 'rezultat'\n",
    "ham(a, b)"
   ]
  },
  {
   "cell_type": "code",
   "execution_count": 5,
   "id": "a11d5bca",
   "metadata": {},
   "outputs": [
    {
     "data": {
      "text/plain": [
       "8"
      ]
     },
     "execution_count": 5,
     "metadata": {},
     "output_type": "execute_result"
    }
   ],
   "source": [
    "a = 'rezultat'\n",
    "b = 'galerija'\n",
    "ham(a, b)"
   ]
  },
  {
   "cell_type": "markdown",
   "id": "42f59764",
   "metadata": {},
   "source": [
    "# Levenshteinova razdalja"
   ]
  },
  {
   "cell_type": "code",
   "execution_count": 6,
   "id": "872fb7cc",
   "metadata": {},
   "outputs": [],
   "source": [
    "# Funkcija za izračun Levenshteinove razdalje\n",
    "# Vhod: dva niza poljubnih velikosti\n",
    "# Izhod: vrednost Levenshteinove razdalje\n",
    "\n",
    "def lev(a, b):\n",
    "    rows = len(a) + 1\n",
    "    cols = len(b) + 1\n",
    "    \n",
    "    # inicializacija pomožne matrike\n",
    "    distances = np.zeros((rows, cols))\n",
    "    \n",
    "    for i in range(1, rows):\n",
    "        distances[i, 0] = i\n",
    "        \n",
    "    for j in range(1, cols):\n",
    "        distances[0, j] = j\n",
    "    \n",
    "    # izračun vrednosti elementov pomožne matrike\n",
    "    for i in range(1, rows):\n",
    "        for j in range(1, cols):\n",
    "            # če sta znaka enaka, potem je vrednost elementa enaka vrednosti zgornjega levega diagonalnega elementa \n",
    "            if(a[i - 1] == b[j - 1]):\n",
    "                distances[i, j] = distances[i - 1, j - 1]\n",
    "            \n",
    "            # če znaka nista enaka, potem je vrednost elementa enaka minimalni vrednosti sosednih elementov (levega, levega diagonalnega in zgornjega) + 1\n",
    "            else:\n",
    "                distances[i, j] = min(distances[i - 1, j - 1], distances[i - 1, j], distances[i, j - 1]) + 1\n",
    "    \n",
    "    # izpis izračunanih vrednosti pomožne matrike\n",
    "    print(distances)\n",
    "    \n",
    "    # izpis zaporedja operacij\n",
    "    PrintEditOperations(distances, a, b)\n",
    "    \n",
    "    # vrednost Levenshteinove razdalje je v skrajnem spodnjem desnem elementu pomožne matrike\n",
    "    return distances[rows - 1, cols - 1]"
   ]
  },
  {
   "cell_type": "code",
   "execution_count": 7,
   "id": "8d1cae5a",
   "metadata": {},
   "outputs": [],
   "source": [
    "# Funkcija za izpis zaporedja operacij pri izračunu Levenshteinove razdalje\n",
    "# Vhod: pomožna matrika z vsemi izračunanimi vrednostmi, dva niza poljubnih velikosti\n",
    "\n",
    "def PrintEditOperations(distances, a, b):\n",
    "    print(\"Za pretvorbo niza '\" + a + \"' v niz '\" + b + \"', velja naslednje zaporedje operacij:\")\n",
    "    \n",
    "    # prehod poteka od skrajnega spodnjega desnega elementa pomožne matrike\n",
    "    i = distances.shape[0] - 1\n",
    "    j = distances.shape[1] - 1\n",
    "    \n",
    "    while(True):\n",
    "        # pogoj za zaključek prehoda je, kadar pridemo v skrajni zgornji levi element pomožne matrike\n",
    "        if(i == -1 or j == -1):\n",
    "            break;\n",
    "            \n",
    "        # če sta znaka enaka, potem operacija ni potrebna in se premaknemo levo diagonalno\n",
    "        if(a[i - 1] == b[j - 1]):\n",
    "            i = i - 1\n",
    "            j = j - 1\n",
    "\n",
    "        # če znaka nista enaka, preverimo ali gre za zamenjavo (ali je trenutna vrednost enaka vrednosti zgoraj levo + 1?)\n",
    "        elif(distances[i, j] == distances[i - 1, j - 1] + 1):\n",
    "            print(\"zamenjava znaka '\" + a[i - 1] + \"' z znakom '\" + b[j - 1] + \"'\")\n",
    "            i = i - 1\n",
    "            j = j - 1\n",
    "            \n",
    "        # če znaka nista enaka, preverimo ali gre za brisanje (ali je trenutna vrednost enaka vrednosti zgoraj + 1?)    \n",
    "        elif(distances[i, j] == distances[i - 1, j] + 1):\n",
    "            print(\"brisanje znaka '\" + a[i - 1] + \"'\")\n",
    "            i = i - 1\n",
    "            \n",
    "        # če znaka nista enaka, preverimo ali gre za vstavljanje (ali je trenutna vrednost enaka vrednosti levo + 1?)    \n",
    "        elif(distances[i, j] == distances[i, j - 1] + 1):\n",
    "            print(\"vstavljanje znaka '\" + b[j - 1] + \"'\")\n",
    "            j = j - 1\n",
    "        \n",
    "        # sicer smo na koncu in prekinemo izvajanje zanke\n",
    "        else:\n",
    "            break"
   ]
  },
  {
   "cell_type": "markdown",
   "id": "076d5301",
   "metadata": {},
   "source": [
    "### Levenshteinova podobnost"
   ]
  },
  {
   "cell_type": "code",
   "execution_count": 8,
   "id": "12df32e5",
   "metadata": {},
   "outputs": [],
   "source": [
    "# Funkcija za izračun Levenshteinove podobnosti\n",
    "# Vhod: dva niza poljubnih velikosti\n",
    "# Izhod: vrednost Levenshteinove podobnosti na intervalu [0, 1]\n",
    "\n",
    "def sim_lev(a, b):\n",
    "    a_len = len(a)\n",
    "    b_len = len(b)\n",
    "    \n",
    "    d = lev(a, b)\n",
    "    print('Levenshteinova razdalja: ', d)\n",
    "    similarity = ((a_len + b_len) - d)/(a_len + b_len)\n",
    "    return similarity"
   ]
  },
  {
   "cell_type": "markdown",
   "id": "ccd59d4e",
   "metadata": {},
   "source": [
    "### Primeri izračunov Levenshteinove razdalje"
   ]
  },
  {
   "cell_type": "code",
   "execution_count": 9,
   "id": "a90e792e",
   "metadata": {},
   "outputs": [
    {
     "name": "stdout",
     "output_type": "stream",
     "text": [
      "[[0. 1. 2. 3. 4. 5. 6.]\n",
      " [1. 1. 2. 3. 4. 4. 5.]\n",
      " [2. 2. 1. 2. 3. 4. 5.]\n",
      " [3. 2. 2. 2. 3. 4. 5.]\n",
      " [4. 3. 2. 3. 3. 4. 5.]\n",
      " [5. 4. 3. 3. 4. 4. 5.]\n",
      " [6. 5. 4. 4. 3. 4. 5.]\n",
      " [7. 6. 5. 5. 4. 4. 5.]]\n",
      "Za pretvorbo niza 'telefon' v niz 'lepota', velja naslednje zaporedje operacij:\n",
      "zamenjava znaka 'n' z znakom 'a'\n",
      "vstavljanje znaka 't'\n",
      "zamenjava znaka 'f' z znakom 'p'\n",
      "brisanje znaka 'e'\n",
      "brisanje znaka 't'\n",
      "Levenshteinova razdalja:  5.0\n"
     ]
    },
    {
     "data": {
      "text/plain": [
       "0.6153846153846154"
      ]
     },
     "execution_count": 9,
     "metadata": {},
     "output_type": "execute_result"
    }
   ],
   "source": [
    "a = 'telefon'\n",
    "b = 'lepota'\n",
    "sim_lev(a, b)"
   ]
  },
  {
   "cell_type": "code",
   "execution_count": 10,
   "id": "6a12c052",
   "metadata": {},
   "outputs": [
    {
     "name": "stdout",
     "output_type": "stream",
     "text": [
      "[[0. 1. 2. 3. 4. 5. 6. 7. 8. 9.]\n",
      " [1. 0. 1. 2. 3. 4. 5. 6. 7. 8.]\n",
      " [2. 1. 0. 1. 2. 3. 4. 5. 6. 7.]\n",
      " [3. 2. 1. 0. 1. 2. 3. 4. 5. 6.]\n",
      " [4. 3. 2. 1. 1. 2. 3. 4. 5. 5.]\n",
      " [5. 4. 3. 2. 1. 2. 3. 4. 5. 6.]\n",
      " [6. 5. 4. 3. 2. 1. 2. 3. 4. 5.]\n",
      " [7. 6. 5. 4. 3. 2. 1. 2. 3. 4.]\n",
      " [8. 7. 6. 5. 4. 3. 2. 2. 3. 4.]\n",
      " [9. 8. 7. 6. 5. 4. 3. 3. 3. 3.]]\n",
      "Za pretvorbo niza 'Mannhaton' v niz 'Manhattan', velja naslednje zaporedje operacij:\n",
      "zamenjava znaka 'o' z znakom 'a'\n",
      "vstavljanje znaka 't'\n",
      "brisanje znaka 'n'\n",
      "Levenshteinova razdalja:  3.0\n"
     ]
    },
    {
     "data": {
      "text/plain": [
       "0.8333333333333334"
      ]
     },
     "execution_count": 10,
     "metadata": {},
     "output_type": "execute_result"
    }
   ],
   "source": [
    "a = \"Mannhaton\"\n",
    "b = \"Manhattan\"\n",
    "sim_lev(a, b)"
   ]
  },
  {
   "cell_type": "markdown",
   "id": "884d3764",
   "metadata": {},
   "source": [
    "# Matematične lastnosti Levenshteinove razdalje"
   ]
  },
  {
   "cell_type": "markdown",
   "id": "a733619c",
   "metadata": {},
   "source": [
    "#### 1. Vrednost razdalje bo enaka vsaj absolutni razliki velikosti dveh primerjanih nizov"
   ]
  },
  {
   "cell_type": "code",
   "execution_count": 38,
   "id": "88a02a96",
   "metadata": {},
   "outputs": [
    {
     "name": "stdout",
     "output_type": "stream",
     "text": [
      "[[0. 1. 2. 3. 4. 5. 6.]\n",
      " [1. 1. 2. 3. 3. 4. 5.]\n",
      " [2. 2. 2. 3. 4. 3. 4.]\n",
      " [3. 3. 3. 3. 3. 4. 3.]]\n",
      "Za pretvorbo niza 'ata' v niz 'solata', velja naslednje zaporedje operacij:\n",
      "vstavljanje znaka 'l'\n",
      "vstavljanje znaka 'o'\n",
      "vstavljanje znaka 's'\n"
     ]
    },
    {
     "data": {
      "text/plain": [
       "3.0"
      ]
     },
     "execution_count": 38,
     "metadata": {},
     "output_type": "execute_result"
    }
   ],
   "source": [
    "a = 'ata'\n",
    "b = 'solata'\n",
    "\n",
    "lev(a, b)\n",
    "\n",
    "# razdalja bo enaka 3 tudi, kadar bosta niza a='solata' in b='ata'"
   ]
  },
  {
   "cell_type": "markdown",
   "id": "6f270fc9",
   "metadata": {},
   "source": [
    "#### Vrednost razdalje bo enaka največ velikosti daljšega od primerjanih nizov"
   ]
  },
  {
   "cell_type": "code",
   "execution_count": 39,
   "id": "4ac5ec75",
   "metadata": {},
   "outputs": [
    {
     "name": "stdout",
     "output_type": "stream",
     "text": [
      "[[0. 1. 2. 3. 4.]\n",
      " [1. 1. 2. 3. 4.]\n",
      " [2. 2. 2. 3. 4.]\n",
      " [3. 3. 3. 3. 4.]]\n",
      "Za pretvorbo niza 'oče' v niz 'mati', velja naslednje zaporedje operacij:\n",
      "zamenjava znaka 'e' z znakom 'i'\n",
      "zamenjava znaka 'č' z znakom 't'\n",
      "zamenjava znaka 'o' z znakom 'a'\n",
      "vstavljanje znaka 'm'\n"
     ]
    },
    {
     "data": {
      "text/plain": [
       "4.0"
      ]
     },
     "execution_count": 39,
     "metadata": {},
     "output_type": "execute_result"
    }
   ],
   "source": [
    "a = 'oče'\n",
    "b = 'mati' # daljši niz je dolžine 4\n",
    "\n",
    "lev(a, b)\n",
    "\n",
    "# razdalja je 4, saj se niza razlikujeta v vseh znakih; opazimo, da je vrednost razdalje enaka največ velikosti daljšega niza"
   ]
  },
  {
   "cell_type": "markdown",
   "id": "22dfa69e",
   "metadata": {},
   "source": [
    "#### Vrednost razdalje bo enaka 0 takrat, ko sta oba niza enaka."
   ]
  },
  {
   "cell_type": "code",
   "execution_count": 40,
   "id": "e6c8e963",
   "metadata": {},
   "outputs": [
    {
     "name": "stdout",
     "output_type": "stream",
     "text": [
      "[[0. 1. 2. 3.]\n",
      " [1. 0. 1. 2.]\n",
      " [2. 1. 0. 1.]\n",
      " [3. 2. 1. 0.]]\n",
      "Za pretvorbo niza 'oče' v niz 'oče', velja naslednje zaporedje operacij:\n"
     ]
    },
    {
     "data": {
      "text/plain": [
       "0.0"
      ]
     },
     "execution_count": 40,
     "metadata": {},
     "output_type": "execute_result"
    }
   ],
   "source": [
    "a = 'oče'\n",
    "b = 'oče'\n",
    "\n",
    "lev(a, b)\n",
    "\n",
    "# razdalja je 0, saj sta niza enaka in operacije za pretvorbo niza a v b niso potrebne"
   ]
  },
  {
   "cell_type": "markdown",
   "id": "9da4d0dc",
   "metadata": {},
   "source": [
    "#### Če sta niza enakih velikosti, potem bo vrednost Hammingove razdalje nad njima tudi zgornja meja vrednosti Levenshteinove razdalje"
   ]
  },
  {
   "cell_type": "code",
   "execution_count": 41,
   "id": "1d4fe037",
   "metadata": {},
   "outputs": [
    {
     "name": "stdout",
     "output_type": "stream",
     "text": [
      "[[0. 1. 2. 3.]\n",
      " [1. 1. 2. 3.]\n",
      " [2. 2. 2. 3.]\n",
      " [3. 3. 3. 3.]]\n",
      "Za pretvorbo niza 'ata' v niz 'oče', velja naslednje zaporedje operacij:\n",
      "zamenjava znaka 'a' z znakom 'e'\n",
      "zamenjava znaka 't' z znakom 'č'\n",
      "zamenjava znaka 'a' z znakom 'o'\n",
      "\n",
      "ham(\"ata\", \"oče\")=3\n",
      "lev(\"ata\", \"oče\")=3.0\n"
     ]
    }
   ],
   "source": [
    "a = 'ata'\n",
    "b = 'oče'\n",
    "\n",
    "H = ham(a, b) # izračun Hammingove razdalje\n",
    "L = lev(a, b) # izračun Levenshteinove razdalje\n",
    "\n",
    "# izpis razdalj\n",
    "print(f'\\nham(\"{a}\", \"{b}\")={H}')\n",
    "print(f'lev(\"{a}\", \"{b}\")={L}')\n",
    "\n",
    "# Hammingova razdalje je 3, kar je tudi največja možna Levenshteinova razdalja med nizoma a in b"
   ]
  },
  {
   "cell_type": "markdown",
   "id": "874a0045",
   "metadata": {},
   "source": [
    "#### Trikotniška neenakost\n",
    "\n",
    "Levenshteinova razdalja med dvema nizoma ne bo nikoli večja od vsote njunih vrednosti Levenshteinovih razdalj v primerjavi s tretjim nizom."
   ]
  },
  {
   "cell_type": "code",
   "execution_count": 42,
   "id": "c151878f",
   "metadata": {},
   "outputs": [
    {
     "name": "stdout",
     "output_type": "stream",
     "text": [
      "[[0. 1. 2. 3. 4.]\n",
      " [1. 1. 2. 3. 4.]\n",
      " [2. 2. 2. 3. 4.]\n",
      " [3. 3. 3. 3. 4.]]\n",
      "Za pretvorbo niza 'oče' v niz 'mati', velja naslednje zaporedje operacij:\n",
      "zamenjava znaka 'e' z znakom 'i'\n",
      "zamenjava znaka 'č' z znakom 't'\n",
      "zamenjava znaka 'o' z znakom 'a'\n",
      "vstavljanje znaka 'm'\n",
      "[[0. 1. 2. 3. 4. 5.]\n",
      " [1. 1. 2. 3. 4. 5.]\n",
      " [2. 2. 2. 3. 4. 5.]\n",
      " [3. 3. 2. 3. 4. 5.]\n",
      " [4. 4. 3. 3. 4. 5.]]\n",
      "Za pretvorbo niza 'mati' v niz 'otrok', velja naslednje zaporedje operacij:\n",
      "zamenjava znaka 'i' z znakom 'k'\n",
      "zamenjava znaka 't' z znakom 'o'\n",
      "zamenjava znaka 'a' z znakom 'r'\n",
      "zamenjava znaka 'm' z znakom 't'\n",
      "vstavljanje znaka 'o'\n",
      "[[0. 1. 2. 3. 4. 5.]\n",
      " [1. 0. 1. 2. 3. 4.]\n",
      " [2. 1. 1. 2. 3. 4.]\n",
      " [3. 2. 2. 2. 3. 4.]]\n",
      "Za pretvorbo niza 'oče' v niz 'otrok', velja naslednje zaporedje operacij:\n",
      "zamenjava znaka 'e' z znakom 'k'\n",
      "zamenjava znaka 'č' z znakom 'o'\n",
      "vstavljanje znaka 'r'\n",
      "vstavljanje znaka 't'\n",
      "\n",
      "lev(\"oče\",\"mati\")=4.0\n",
      "lev(\"mati\",\"otrok\")=5.0\n",
      "lev(\"oče\",\"otrok\")=4.0\n",
      "\n",
      "4.0 <= 5.0 + 4.0: True\n",
      "5.0 <= 4.0 + 4.0: True\n",
      "4.0 <= 4.0 + 5.0: True\n"
     ]
    }
   ],
   "source": [
    "# definicija nizov\n",
    "a = 'oče'\n",
    "b = 'mati'\n",
    "c = 'otrok'\n",
    "\n",
    "# izračun razdalj med nizi\n",
    "X = lev(a, b)\n",
    "Y = lev(b, c)\n",
    "Z = lev(a, c)\n",
    "\n",
    "# izpis razdalj\n",
    "print(f'\\nlev(\"{a}\",\"{b}\")={X}\\nlev(\"{b}\",\"{c}\")={Y}\\nlev(\"{a}\",\"{c}\")={Z}\\n')\n",
    "\n",
    "# preverjanje trikotniške neenakosti\n",
    "print(f'{X} <= {Y} + {Z}: {X <= Y + Z}')\n",
    "print(f'{Y} <= {X} + {Z}: {Y <= X + Z}')\n",
    "print(f'{Z} <= {X} + {Y}: {Z <= X + Y}')"
   ]
  }
 ],
 "metadata": {
  "kernelspec": {
   "display_name": "Python 3",
   "language": "python",
   "name": "python3"
  },
  "language_info": {
   "codemirror_mode": {
    "name": "ipython",
    "version": 3
   },
   "file_extension": ".py",
   "mimetype": "text/x-python",
   "name": "python",
   "nbconvert_exporter": "python",
   "pygments_lexer": "ipython3",
   "version": "3.8.8"
  }
 },
 "nbformat": 4,
 "nbformat_minor": 5
}
