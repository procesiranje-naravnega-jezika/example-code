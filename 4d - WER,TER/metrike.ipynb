{
  "nbformat": 4,
  "nbformat_minor": 0,
  "metadata": {
    "colab": {
      "provenance": []
    },
    "kernelspec": {
      "name": "python3",
      "display_name": "Python 3"
    },
    "language_info": {
      "name": "python"
    }
  },
  "cells": [
    {
      "cell_type": "code",
      "source": [
        "import numpy as np"
      ],
      "metadata": {
        "id": "Zw5yJrwxToO6"
      },
      "execution_count": 59,
      "outputs": []
    },
    {
      "cell_type": "code",
      "source": [
        "# Funkcija za izračun število premikov\n",
        "# Vhod: dva niza poljubnih velikosti (v obliki polja)\n",
        "# Izhod: število premikov\n",
        "\n",
        "def premik(besede_a, besede_b):\n",
        "  shift = 0\n",
        "\n",
        "  i = 0\n",
        "  while i < len(besede_a):\n",
        "    for j in range(0, len(besede_b)):\n",
        "      if i != j and besede_a[i] == besede_b[j]:\n",
        "\n",
        "        moved_word = besede_a.pop(i)\n",
        "        besede_a.insert(j, moved_word)\n",
        "        shift = shift + 1\n",
        "        reset = True\n",
        "        break\n",
        "      else:\n",
        "        reset = False\n",
        "\n",
        "    if reset == True:\n",
        "      i = 0\n",
        "    else:\n",
        "      i = i + 1\n",
        "\n",
        "  return besede_a, shift"
      ],
      "metadata": {
        "id": "Ks_Jhpj4tKSh"
      },
      "execution_count": 60,
      "outputs": []
    },
    {
      "cell_type": "code",
      "source": [
        "# Funkcija za izračun Levenshteinove razdalje za besede\n",
        "# Vhod: dva niza poljubnih velikosti, premik (opcijsko)\n",
        "# Izhod: vrednost Levenshteinove razdalje\n",
        "\n",
        "def lev(a, b, op_premik=False):\n",
        "    besede_a = a.split()\n",
        "    besede_b = b.split()\n",
        "\n",
        "    rows = len(besede_a) + 1\n",
        "    cols = len(besede_b) + 1\n",
        "\n",
        "    shift = 0\n",
        "    if op_premik == True:\n",
        "      besede_a, shift = premik(besede_a, besede_b)\n",
        "\n",
        "    # inicializacija pomožne matrike\n",
        "    distances = np.zeros((rows, cols))\n",
        "\n",
        "    for i in range(1, rows):\n",
        "        distances[i, 0] = i\n",
        "\n",
        "    for j in range(1, cols):\n",
        "        distances[0, j] = j\n",
        "\n",
        "    # izračun vrednosti elementov pomožne matrike\n",
        "    for i in range(1, rows):\n",
        "        for j in range(1, cols):\n",
        "            # če sta besedi enaki, potem je vrednost elementa enaka vrednosti zgornjega levega diagonalnega elementa\n",
        "            if(besede_a[i - 1] == besede_b[j - 1]):\n",
        "                distances[i, j] = distances[i - 1, j - 1]\n",
        "\n",
        "            # če znaka nista enaka, potem je vrednost elementa enaka minimalni vrednosti sosednih elementov (levega, levega diagonalnega in zgornjega) + 1\n",
        "            else:\n",
        "                distances[i, j] = min(distances[i - 1, j - 1], distances[i - 1, j], distances[i, j - 1]) + 1\n",
        "\n",
        "    # izpis izračunanih vrednosti pomožne matrike\n",
        "    print(distances)\n",
        "\n",
        "    # vrednost Levenshteinove razdalje je v skrajnem spodnjem desnem elementu pomožne matrike\n",
        "    return distances[rows - 1, cols - 1] + shift"
      ],
      "metadata": {
        "id": "O14ORgXkhAuM"
      },
      "execution_count": 61,
      "outputs": []
    },
    {
      "cell_type": "code",
      "source": [
        "# Funkcija za izračun podobnosti po metriki WER\n",
        "# Vhod: dve povedi poljubnih velikosti\n",
        "# Izhod: vrednost podobnosti na intervalu [0, 100]\n",
        "\n",
        "def sim_WER(referenca, prevod):\n",
        "\n",
        "    d = lev(referenca, prevod)\n",
        "    similarity = d / len(referenca.split())\n",
        "    similarity *= 100\n",
        "    print('Podobnost (WER): ', similarity)\n",
        "    return similarity"
      ],
      "metadata": {
        "id": "h-9YexoIh3Lo"
      },
      "execution_count": 62,
      "outputs": []
    },
    {
      "cell_type": "code",
      "source": [
        "# Funkcija za izračun podobnosti po metriki TER\n",
        "# Vhod: dve povedi poljubnih velikosti\n",
        "# Izhod: vrednost podobnosti na intervalu [0, 100]\n",
        "\n",
        "def sim_TER(referenca, prevod):\n",
        "\n",
        "    d = lev(referenca, prevod, True)\n",
        "    similarity = d / len(referenca.split())\n",
        "    similarity *= 100\n",
        "    print('Podobnost (TER): ', similarity)\n",
        "    return similarity"
      ],
      "metadata": {
        "id": "AkIEsysjtlnZ"
      },
      "execution_count": 63,
      "outputs": []
    },
    {
      "cell_type": "code",
      "source": [
        "referenca = 'danes je lep dan'\n",
        "prevod = 'lep dan je danes'\n",
        "#prevod = 'danes je slab dan'\n",
        "#prevod = 'lep dan je danes'\n",
        "#prevod = 'danes ni dan je'"
      ],
      "metadata": {
        "id": "-A49N6Dj8_2G"
      },
      "execution_count": 64,
      "outputs": []
    },
    {
      "cell_type": "code",
      "source": [
        "sim_WER(referenca, prevod)"
      ],
      "metadata": {
        "id": "PFq_xTKVt0VG",
        "colab": {
          "base_uri": "https://localhost:8080/"
        },
        "outputId": "57ddf334-980b-4ebf-8cbd-b37940bebc61"
      },
      "execution_count": 65,
      "outputs": [
        {
          "output_type": "stream",
          "name": "stdout",
          "text": [
            "[[0. 1. 2. 3. 4.]\n",
            " [1. 1. 2. 3. 3.]\n",
            " [2. 2. 2. 2. 3.]\n",
            " [3. 2. 3. 3. 3.]\n",
            " [4. 3. 2. 3. 4.]]\n",
            "Podobnost (WER):  100.0\n"
          ]
        },
        {
          "output_type": "execute_result",
          "data": {
            "text/plain": [
              "100.0"
            ]
          },
          "metadata": {},
          "execution_count": 65
        }
      ]
    },
    {
      "cell_type": "code",
      "source": [
        "sim_TER(referenca, prevod)"
      ],
      "metadata": {
        "colab": {
          "base_uri": "https://localhost:8080/"
        },
        "id": "T1Y_QQX7RUwQ",
        "outputId": "976b22ac-80af-4ef3-d51c-34bd293f256f"
      },
      "execution_count": 66,
      "outputs": [
        {
          "output_type": "stream",
          "name": "stdout",
          "text": [
            "[[0. 1. 2. 3. 4.]\n",
            " [1. 0. 1. 2. 3.]\n",
            " [2. 1. 0. 1. 2.]\n",
            " [3. 2. 1. 0. 1.]\n",
            " [4. 3. 2. 1. 0.]]\n",
            "Podobnost (TER):  50.0\n"
          ]
        },
        {
          "output_type": "execute_result",
          "data": {
            "text/plain": [
              "50.0"
            ]
          },
          "metadata": {},
          "execution_count": 66
        }
      ]
    },
    {
      "cell_type": "code",
      "source": [],
      "metadata": {
        "id": "V5Xk12d1Tvxv"
      },
      "execution_count": null,
      "outputs": []
    }
  ]
}