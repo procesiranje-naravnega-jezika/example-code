{
  "nbformat": 4,
  "nbformat_minor": 0,
  "metadata": {
    "colab": {
      "provenance": []
    },
    "kernelspec": {
      "name": "python3",
      "display_name": "Python 3"
    },
    "language_info": {
      "name": "python"
    }
  },
  "cells": [
    {
      "cell_type": "code",
      "execution_count": 66,
      "metadata": {
        "colab": {
          "base_uri": "https://localhost:8080/"
        },
        "id": "2KZRscFgOTOn",
        "outputId": "27a455c1-3c51-4ecf-d449-f24804a9fad4"
      },
      "outputs": [
        {
          "output_type": "stream",
          "name": "stdout",
          "text": [
            "Requirement already satisfied: sacrebleu in /usr/local/lib/python3.10/dist-packages (2.3.2)\n",
            "Requirement already satisfied: portalocker in /usr/local/lib/python3.10/dist-packages (from sacrebleu) (2.8.2)\n",
            "Requirement already satisfied: regex in /usr/local/lib/python3.10/dist-packages (from sacrebleu) (2023.6.3)\n",
            "Requirement already satisfied: tabulate>=0.8.9 in /usr/local/lib/python3.10/dist-packages (from sacrebleu) (0.9.0)\n",
            "Requirement already satisfied: numpy>=1.17 in /usr/local/lib/python3.10/dist-packages (from sacrebleu) (1.23.5)\n",
            "Requirement already satisfied: colorama in /usr/local/lib/python3.10/dist-packages (from sacrebleu) (0.4.6)\n",
            "Requirement already satisfied: lxml in /usr/local/lib/python3.10/dist-packages (from sacrebleu) (4.9.3)\n"
          ]
        }
      ],
      "source": [
        "!pip install sacrebleu"
      ]
    },
    {
      "cell_type": "code",
      "source": [
        "from sacrebleu.metrics import TER"
      ],
      "metadata": {
        "id": "6HxB_e6xOaib"
      },
      "execution_count": 67,
      "outputs": []
    },
    {
      "cell_type": "code",
      "source": [
        "def IzracunajWER(prevod, referenca):\n",
        "  # Razdelimo referenco in prevod na besede\n",
        "\tbesede_referenca = referenca.split()\n",
        "\tbesede_prevod = prevod.split()\n",
        "\n",
        "  # Preštejemo število zamenjav, brisanj in vstavljanj\n",
        "\tZ = sum(1 for r, p in zip(besede_referenca, besede_prevod) if r != p)\n",
        "\tB = len(besede_referenca) - len(besede_prevod)\n",
        "\tV = len(besede_prevod) - len(besede_referenca)\n",
        "\n",
        "  # Pridobimo skupno število besed v referenčni povedi (N)\n",
        "\tN = len(besede_referenca)\n",
        "\n",
        "  # Izračunamo oceno WER\n",
        "\tocena_WER = (Z + B + V) / N\n",
        "\n",
        "\treturn ocena_WER"
      ],
      "metadata": {
        "id": "FXLDKSwb93Oa"
      },
      "execution_count": 68,
      "outputs": []
    },
    {
      "cell_type": "code",
      "source": [
        "def IzracunajTER(prevod, referenca):\n",
        "    # Ustvarimo nov objekt TER iz knjižnice sacrebleu\n",
        "    ter = TER()\n",
        "\n",
        "    # Izračunamo oceno TER\n",
        "    ocena_TER = ter.sentence_score(prevod, [referenca])\n",
        "\n",
        "    return ocena_TER.score/100"
      ],
      "metadata": {
        "id": "RhneBCSQ_aqX"
      },
      "execution_count": 69,
      "outputs": []
    },
    {
      "cell_type": "code",
      "source": [
        "referenca = 'danes je lep dan'\n",
        "prevod = 'lep dan je danes'"
      ],
      "metadata": {
        "id": "-A49N6Dj8_2G"
      },
      "execution_count": 70,
      "outputs": []
    },
    {
      "cell_type": "code",
      "source": [
        "wer = IzracunajWER(prevod, referenca)\n",
        "wer"
      ],
      "metadata": {
        "colab": {
          "base_uri": "https://localhost:8080/"
        },
        "id": "4Ri7_Cjf_DHe",
        "outputId": "938f1b8b-fc9a-44f0-8833-75778e26d252"
      },
      "execution_count": 71,
      "outputs": [
        {
          "output_type": "execute_result",
          "data": {
            "text/plain": [
              "1.0"
            ]
          },
          "metadata": {},
          "execution_count": 71
        }
      ]
    },
    {
      "cell_type": "code",
      "source": [
        "ter = IzracunajTER(prevod, referenca)\n",
        "ter"
      ],
      "metadata": {
        "colab": {
          "base_uri": "https://localhost:8080/"
        },
        "id": "7GfOvxaX_ya4",
        "outputId": "8b001316-5e22-4f73-e75b-dbf23fa65a03"
      },
      "execution_count": 72,
      "outputs": [
        {
          "output_type": "execute_result",
          "data": {
            "text/plain": [
              "0.5"
            ]
          },
          "metadata": {},
          "execution_count": 72
        }
      ]
    }
  ]
}