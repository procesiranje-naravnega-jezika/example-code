{
  "nbformat": 4,
  "nbformat_minor": 0,
  "metadata": {
    "colab": {
      "name": "Untitled0.ipynb",
      "provenance": [],
      "collapsed_sections": []
    },
    "kernelspec": {
      "name": "python3",
      "display_name": "Python 3"
    },
    "language_info": {
      "name": "python"
    }
  },
  "cells": [
    {
      "cell_type": "code",
      "source": [
        "from gensim import utils\n",
        "from pprint import pprint\n",
        "import nltk\n",
        "from nltk.corpus import stopwords\n",
        "import lemmagen.lemmatizer\n",
        "from lemmagen.lemmatizer import Lemmatizer"
      ],
      "metadata": {
        "id": "ylo31gkJZ8A_"
      },
      "execution_count": null,
      "outputs": []
    },
    {
      "cell_type": "code",
      "source": [
        "# download models etc:\n",
        "\n",
        "# NLTK \n",
        "#nltk.download()"
      ],
      "metadata": {
        "id": "shZy97i7rowU"
      },
      "execution_count": null,
      "outputs": []
    },
    {
      "cell_type": "markdown",
      "source": [
        "### **CEVOVOD**"
      ],
      "metadata": {
        "id": "5pyA0Jkor5ym"
      }
    },
    {
      "cell_type": "code",
      "source": [
        "# 1. vhodno besedilo \n",
        "text = \"Popili so bili ravnokar popoldansko kavo: prazne steklenice so bile še na mizi, pogrnjeni z nedeljskim prtom.\"\n",
        "print(\"\\n\\nVHODNO BESEDILO\")\n",
        "pprint(text)\n",
        "#print(\"\\nsize=\"+str(len(text)))"
      ],
      "metadata": {
        "id": "kgWwzZKgrvqL"
      },
      "execution_count": null,
      "outputs": []
    },
    {
      "cell_type": "code",
      "source": [
        "# 2. tokenizacija in prečiščevanje\n",
        "print(\"\\n\\nTOKENIZACIJA IN PREČIŠČEVANJE\")\n",
        "tokens = utils.simple_preprocess(text, deacc=False, min_len=3, max_len=15)\n",
        "pprint(tokens)\n",
        "#print(\"\\nsize=\"+str(len(tokens)))"
      ],
      "metadata": {
        "id": "AlEb4-khrvcu"
      },
      "execution_count": null,
      "outputs": []
    },
    {
      "cell_type": "code",
      "source": [
        "# 3. odstranjevanje blokiranih besed\n",
        "print(\"\\n\\nODSTRANJEVANJE BLOKIRANIH BESED\")\n",
        "stop = stopwords.words('slovene')\n",
        "\n",
        "filtered = [word for word in tokens if word not in stop]\n",
        "pprint(filtered)\n",
        "#print(\"\\nsize=\"+str(len(filtered)))"
      ],
      "metadata": {
        "id": "YswJj-Bvr0or"
      },
      "execution_count": null,
      "outputs": []
    },
    {
      "cell_type": "code",
      "source": [
        "# 4. lematizacija\n",
        "print(\"\\n\\nLEMATIZACIJA\")\n",
        "lemmatizer = Lemmatizer(dictionary=lemmagen.DICTIONARY_SLOVENE)\n",
        "lemmatized = [lemmatizer.lemmatize(word) for word in filtered]\n",
        "pprint(lemmatized)\n",
        "#print(\"\\nsize=\"+str(len(lemmatized)))"
      ],
      "metadata": {
        "id": "g56Q6XPZr2PZ"
      },
      "execution_count": null,
      "outputs": []
    }
  ]
}