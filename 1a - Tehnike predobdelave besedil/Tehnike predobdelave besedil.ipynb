{
  "nbformat": 4,
  "nbformat_minor": 0,
  "metadata": {
    "colab": {
      "name": "Tehnike predobdelave.ipynb",
      "provenance": [],
      "collapsed_sections": []
    },
    "kernelspec": {
      "name": "python3",
      "display_name": "Python 3"
    },
    "language_info": {
      "name": "python"
    }
  },
  "cells": [
    {
      "cell_type": "code",
      "source": [
        "#!pip install Lemmagen\n",
        "#!pip install nltk"
      ],
      "metadata": {
        "id": "eU3NwF_Dsm0U"
      },
      "execution_count": null,
      "outputs": []
    },
    {
      "cell_type": "code",
      "source": [
        "from gensim import utils\n",
        "from pprint import pprint\n",
        "import nltk\n",
        "from nltk.corpus import stopwords\n",
        "import lemmagen.lemmatizer\n",
        "from lemmagen.lemmatizer import Lemmatizer"
      ],
      "metadata": {
        "id": "ylo31gkJZ8A_"
      },
      "execution_count": 1,
      "outputs": []
    },
    {
      "cell_type": "markdown",
      "source": [
        "### **CEVOVOD**"
      ],
      "metadata": {
        "id": "5pyA0Jkor5ym"
      }
    },
    {
      "cell_type": "code",
      "source": [
        "# 1. vhodno besedilo \n",
        "text = \"Popili so bili ravnokar popoldansko kavo: prazne steklenice so bile še na mizi, pogrnjeni z nedeljskim prtom.\"\n",
        "print(\"VHODNO BESEDILO\")\n",
        "pprint(text)\n",
        "#print(\"\\nsize=\"+str(len(text)))"
      ],
      "metadata": {
        "colab": {
          "base_uri": "https://localhost:8080/"
        },
        "id": "kgWwzZKgrvqL",
        "outputId": "0ff17715-e9e1-430d-ce96-2f96a1db5715"
      },
      "execution_count": 2,
      "outputs": [
        {
          "output_type": "stream",
          "name": "stdout",
          "text": [
            "VHODNO BESEDILO\n",
            "('Popili so bili ravnokar popoldansko kavo: prazne steklenice so bile še na '\n",
            " 'mizi, pogrnjeni z nedeljskim prtom.')\n"
          ]
        }
      ]
    },
    {
      "cell_type": "code",
      "source": [
        "# 2. tokenizacija in prečiščevanje\n",
        "print(\"TOKENIZACIJA IN PREČIŠČEVANJE\")\n",
        "tokens = utils.simple_preprocess(text, deacc=False, min_len=3, max_len=15)\n",
        "pprint(tokens)\n",
        "#print(\"\\nsize=\"+str(len(tokens)))"
      ],
      "metadata": {
        "colab": {
          "base_uri": "https://localhost:8080/"
        },
        "id": "AlEb4-khrvcu",
        "outputId": "1a0a9563-1cc0-42b1-a7c6-c58306e97e16"
      },
      "execution_count": 3,
      "outputs": [
        {
          "output_type": "stream",
          "name": "stdout",
          "text": [
            "TOKENIZACIJA IN PREČIŠČEVANJE\n",
            "['popili',\n",
            " 'bili',\n",
            " 'ravnokar',\n",
            " 'popoldansko',\n",
            " 'kavo',\n",
            " 'prazne',\n",
            " 'steklenice',\n",
            " 'bile',\n",
            " 'mizi',\n",
            " 'pogrnjeni',\n",
            " 'nedeljskim',\n",
            " 'prtom']\n"
          ]
        }
      ]
    },
    {
      "cell_type": "code",
      "source": [
        "# 3. odstranjevanje blokiranih besed\n",
        "print(\"ODSTRANJEVANJE BLOKIRANIH BESED\")\n",
        "nltk.download('stopwords')\n",
        "stop = stopwords.words('slovene')\n",
        "\n",
        "filtered = [word for word in tokens if word not in stop]\n",
        "pprint(filtered)\n",
        "#print(\"\\nsize=\"+str(len(filtered)))"
      ],
      "metadata": {
        "colab": {
          "base_uri": "https://localhost:8080/"
        },
        "id": "YswJj-Bvr0or",
        "outputId": "278dcd03-07ca-4431-a556-d72169f8f310"
      },
      "execution_count": 4,
      "outputs": [
        {
          "output_type": "stream",
          "name": "stdout",
          "text": [
            "ODSTRANJEVANJE BLOKIRANIH BESED\n",
            "[nltk_data] Downloading package stopwords to /root/nltk_data...\n",
            "[nltk_data]   Package stopwords is already up-to-date!\n",
            "['popili',\n",
            " 'ravnokar',\n",
            " 'popoldansko',\n",
            " 'kavo',\n",
            " 'prazne',\n",
            " 'steklenice',\n",
            " 'mizi',\n",
            " 'pogrnjeni',\n",
            " 'nedeljskim',\n",
            " 'prtom']\n"
          ]
        }
      ]
    },
    {
      "cell_type": "code",
      "source": [
        "# 4. lematizacija\n",
        "print(\"LEMATIZACIJA\")\n",
        "lemmatizer = Lemmatizer(dictionary=lemmagen.DICTIONARY_SLOVENE)\n",
        "lemmatized = [lemmatizer.lemmatize(word) for word in filtered]\n",
        "pprint(lemmatized)\n",
        "#print(\"\\nsize=\"+str(len(lemmatized)))"
      ],
      "metadata": {
        "colab": {
          "base_uri": "https://localhost:8080/"
        },
        "id": "g56Q6XPZr2PZ",
        "outputId": "2aa04528-a50c-48f8-db1e-257da507c5bd"
      },
      "execution_count": 5,
      "outputs": [
        {
          "output_type": "stream",
          "name": "stdout",
          "text": [
            "LEMATIZACIJA\n",
            "['popiti',\n",
            " 'ravnokar',\n",
            " 'popoldanski',\n",
            " 'kava',\n",
            " 'prazen',\n",
            " 'steklenica',\n",
            " 'miza',\n",
            " 'pogrnjen',\n",
            " 'nedeljski',\n",
            " 'prt']\n"
          ]
        }
      ]
    }
  ]
}