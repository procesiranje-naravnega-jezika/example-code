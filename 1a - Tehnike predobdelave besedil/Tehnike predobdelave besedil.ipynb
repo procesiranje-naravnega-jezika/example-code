{
  "nbformat": 4,
  "nbformat_minor": 0,
  "metadata": {
    "colab": {
      "name": "Tehnike predobdelave besedil.ipynb",
      "provenance": [],
      "collapsed_sections": []
    },
    "kernelspec": {
      "name": "python3",
      "display_name": "Python 3"
    },
    "language_info": {
      "name": "python"
    }
  },
  "cells": [
    {
      "cell_type": "code",
      "source": [
        "#!pip install Lemmagen\n",
        "#!pip install nltk"
      ],
      "metadata": {
        "id": "eU3NwF_Dsm0U"
      },
      "execution_count": null,
      "outputs": []
    },
    {
      "cell_type": "code",
      "source": [
        "from gensim import utils\n",
        "from pprint import pprint\n",
        "import nltk\n",
        "from nltk.corpus import stopwords\n",
        "import lemmagen.lemmatizer\n",
        "from lemmagen.lemmatizer import Lemmatizer"
      ],
      "metadata": {
        "id": "ylo31gkJZ8A_"
      },
      "execution_count": 1,
      "outputs": []
    },
    {
      "cell_type": "markdown",
      "source": [
        "# **CEVOVOD**"
      ],
      "metadata": {
        "id": "5pyA0Jkor5ym"
      }
    },
    {
      "cell_type": "markdown",
      "source": [
        "## 1. Vhodno besedilo "
      ],
      "metadata": {
        "id": "ogweFOd5vB6g"
      }
    },
    {
      "cell_type": "code",
      "source": [
        "text = \"Popili so bili ravnokar popoldansko kavo: prazne steklenice so bile še na mizi, pogrnjeni z nedeljskim prtom.\"\n",
        "print(\"VHODNO BESEDILO\")\n",
        "pprint(text)\n",
        "#print(\"\\nsize=\"+str(len(text)))"
      ],
      "metadata": {
        "colab": {
          "base_uri": "https://localhost:8080/"
        },
        "id": "kgWwzZKgrvqL",
        "outputId": "becbe796-38ae-46c5-d709-0989983f53ce"
      },
      "execution_count": 2,
      "outputs": [
        {
          "output_type": "stream",
          "name": "stdout",
          "text": [
            "VHODNO BESEDILO\n",
            "('Popili so bili ravnokar popoldansko kavo: prazne steklenice so bile še na '\n",
            " 'mizi, pogrnjeni z nedeljskim prtom.')\n"
          ]
        }
      ]
    },
    {
      "cell_type": "markdown",
      "source": [
        "## 2. Tokenizacija in prečiščevanje"
      ],
      "metadata": {
        "id": "1PaXOKd9vGBv"
      }
    },
    {
      "cell_type": "code",
      "source": [
        "tokens = utils.simple_preprocess(text, deacc=False, min_len=3, max_len=15)\n",
        "pprint(tokens)\n",
        "#print(\"\\nsize=\"+str(len(tokens)))"
      ],
      "metadata": {
        "colab": {
          "base_uri": "https://localhost:8080/"
        },
        "id": "AlEb4-khrvcu",
        "outputId": "5b45a215-60e4-47cd-a668-9a9f551b84f9"
      },
      "execution_count": 3,
      "outputs": [
        {
          "output_type": "stream",
          "name": "stdout",
          "text": [
            "['popili',\n",
            " 'bili',\n",
            " 'ravnokar',\n",
            " 'popoldansko',\n",
            " 'kavo',\n",
            " 'prazne',\n",
            " 'steklenice',\n",
            " 'bile',\n",
            " 'mizi',\n",
            " 'pogrnjeni',\n",
            " 'nedeljskim',\n",
            " 'prtom']\n"
          ]
        }
      ]
    },
    {
      "cell_type": "markdown",
      "source": [
        "## 3. Odstranjevanje blokiranih besed"
      ],
      "metadata": {
        "id": "MXGtFFdPvOia"
      }
    },
    {
      "cell_type": "code",
      "source": [
        "nltk.download('stopwords')\n",
        "stop = stopwords.words('slovene')\n",
        "\n",
        "filtered = [word for word in tokens if word not in stop]\n",
        "pprint(filtered)\n",
        "#print(\"\\nsize=\"+str(len(filtered)))"
      ],
      "metadata": {
        "colab": {
          "base_uri": "https://localhost:8080/"
        },
        "id": "YswJj-Bvr0or",
        "outputId": "3999b5bb-8751-4af5-edc9-17d80fa2363e"
      },
      "execution_count": 4,
      "outputs": [
        {
          "output_type": "stream",
          "name": "stdout",
          "text": [
            "[nltk_data] Downloading package stopwords to /root/nltk_data...\n",
            "[nltk_data]   Package stopwords is already up-to-date!\n",
            "['popili',\n",
            " 'ravnokar',\n",
            " 'popoldansko',\n",
            " 'kavo',\n",
            " 'prazne',\n",
            " 'steklenice',\n",
            " 'mizi',\n",
            " 'pogrnjeni',\n",
            " 'nedeljskim',\n",
            " 'prtom']\n"
          ]
        }
      ]
    },
    {
      "cell_type": "markdown",
      "source": [
        "## 4. Lematizacija"
      ],
      "metadata": {
        "id": "H_-quNgjvYZl"
      }
    },
    {
      "cell_type": "code",
      "source": [
        "lemmatizer = Lemmatizer(dictionary=lemmagen.DICTIONARY_SLOVENE)\n",
        "lemmatized = [lemmatizer.lemmatize(word) for word in filtered]\n",
        "pprint(lemmatized)\n",
        "#print(\"\\nsize=\"+str(len(lemmatized)))"
      ],
      "metadata": {
        "colab": {
          "base_uri": "https://localhost:8080/"
        },
        "id": "g56Q6XPZr2PZ",
        "outputId": "8612566b-de1f-4344-ff6c-9f794c2d6f5a"
      },
      "execution_count": 5,
      "outputs": [
        {
          "output_type": "stream",
          "name": "stdout",
          "text": [
            "['popiti',\n",
            " 'ravnokar',\n",
            " 'popoldanski',\n",
            " 'kava',\n",
            " 'prazen',\n",
            " 'steklenica',\n",
            " 'miza',\n",
            " 'pogrnjen',\n",
            " 'nedeljski',\n",
            " 'prt']\n"
          ]
        }
      ]
    }
  ]
}