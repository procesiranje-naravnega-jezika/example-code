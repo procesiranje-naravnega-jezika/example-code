{
 "cells": [
  {
   "cell_type": "markdown",
   "id": "33339a2f",
   "metadata": {},
   "source": [
    "# Jarova razdalja"
   ]
  },
  {
   "cell_type": "code",
   "execution_count": 42,
   "id": "6e7c3bb6",
   "metadata": {},
   "outputs": [],
   "source": [
    "# Funkcija za izračun Jarove razdalje\n",
    "# Vhod: dva niza poljubnih velikosti\n",
    "# Izhod: vrednost Jarove razdalje\n",
    "\n",
    "import itertools\n",
    "def jaro(a, b):\n",
    "    # niz a je vedno daljši niz\n",
    "    if(len(a) < len(b)):\n",
    "        tmp = b\n",
    "        b = a\n",
    "        a = tmp\n",
    "        \n",
    "    #print('a=', a)\n",
    "    #print('b=', b)\n",
    "    \n",
    "    # dolžini nizov a in b\n",
    "    len_a = len(a) \n",
    "    len_b = len(b)\n",
    "    \n",
    "    # izračun primerjalnega okna\n",
    "    window_size = (max(len_a, len_b) // 2) - 1\n",
    "    #print('primerjalno okno: ', window_size)\n",
    "    \n",
    "    # pomožni polji boolovih spremenljivk, ki ponazarjata znakovna ujemanja; inicializiramo na vrednost False\n",
    "    matches_a = [False] * len_a\n",
    "    matches_b = [False] * len_b\n",
    "    \n",
    "    # spremenljivka m hrani število ujemanj\n",
    "    m = 0\n",
    "    \n",
    "    # preverimo ujemanja s prehodom skozi niz a\n",
    "    for i, char in enumerate(a):\n",
    "        start = max(0, i - window_size)\n",
    "        end = min(i + window_size + 1, len_b)\n",
    "        \n",
    "        for j, c in enumerate(b[start:end], start):\n",
    "            \n",
    "            # če imamo ponavljajoče ujemanje (ujemanje v enakem znaku), potem ne štejemo dvakrat\n",
    "            if(matches_b[j]):\n",
    "                continue\n",
    "            \n",
    "            # če imamo ujemanje\n",
    "            if(c == char):\n",
    "                # zabeležimo ujemanje v pomožnih poljih\n",
    "                matches_a[i] = True\n",
    "                matches_b[j] = True\n",
    "                \n",
    "                # povečamo število ujemanj\n",
    "                m += 1\n",
    "                break\n",
    "           \n",
    "    # če ni ujemanj, bo razdalja enaka 0\n",
    "    distance = 0.0\n",
    "    if(m == 0):\n",
    "        return distance\n",
    "    \n",
    "    #print(a, '->', matches_a)\n",
    "    #print(b, '->', matches_b)\n",
    "        \n",
    "    # sicer preverimo še transpozicije\n",
    "    check_a = itertools.compress(a, matches_a)\n",
    "    check_b = itertools.compress(b, matches_b)\n",
    "    \n",
    "    # izračunamo število transpozicij\n",
    "    t = sum(x != y for x, y in zip(check_a, check_b))\n",
    "    \n",
    "    #print('ujemanja: ', m)\n",
    "    #print('transpozicije: ', t)\n",
    "    \n",
    "    distance = ((m / len_a) + (m / len_b) + ((m - (t / 2)) / m)) / 3.0\n",
    "    return distance "
   ]
  },
  {
   "cell_type": "markdown",
   "id": "915c9206",
   "metadata": {},
   "source": [
    "### Primeri izračunov Jarove razdalje\n"
   ]
  },
  {
   "cell_type": "code",
   "execution_count": 43,
   "id": "fc1ab6ac",
   "metadata": {},
   "outputs": [
    {
     "data": {
      "text/plain": [
       "0.6833333333333332"
      ]
     },
     "execution_count": 43,
     "metadata": {},
     "output_type": "execute_result"
    }
   ],
   "source": [
    "a = 'rezultat'\n",
    "b = 'konzulat'\n",
    "jaro(a, b)"
   ]
  },
  {
   "cell_type": "code",
   "execution_count": 44,
   "id": "4741027b",
   "metadata": {},
   "outputs": [
    {
     "data": {
      "text/plain": [
       "1.0"
      ]
     },
     "execution_count": 44,
     "metadata": {},
     "output_type": "execute_result"
    }
   ],
   "source": [
    "a = 'rezultat'\n",
    "b = 'rezultat'\n",
    "jaro(a, b)"
   ]
  },
  {
   "cell_type": "code",
   "execution_count": 45,
   "id": "a11d5bca",
   "metadata": {},
   "outputs": [
    {
     "data": {
      "text/plain": [
       "0.47222222222222215"
      ]
     },
     "execution_count": 45,
     "metadata": {},
     "output_type": "execute_result"
    }
   ],
   "source": [
    "a = 'rezultat'\n",
    "b = 'galerija'\n",
    "jaro(a, b)"
   ]
  },
  {
   "cell_type": "code",
   "execution_count": 46,
   "id": "6fba2bac",
   "metadata": {},
   "outputs": [
    {
     "data": {
      "text/plain": [
       "0.5317460317460317"
      ]
     },
     "execution_count": 46,
     "metadata": {},
     "output_type": "execute_result"
    }
   ],
   "source": [
    "a = 'telefon'\n",
    "b = 'lepota'\n",
    "jaro(a, b)"
   ]
  },
  {
   "cell_type": "markdown",
   "id": "42f59764",
   "metadata": {},
   "source": [
    "# Jaro-Winklerjeva razdalja"
   ]
  },
  {
   "cell_type": "code",
   "execution_count": 47,
   "id": "872fb7cc",
   "metadata": {},
   "outputs": [],
   "source": [
    "# Funkcija za izračun Jaro-Winklerjeve razdalje\n",
    "# Vhod: dva niza poljubnih velikosti\n",
    "# Izhod: vrednost Jaro-Winklerjeve razdalje\n",
    "\n",
    "def jaro_winkler(a, b, l, p=0.1):\n",
    "    j = jaro(a, b)\n",
    "    \n",
    "    distance = j + l * p * (1 - j)\n",
    "    \n",
    "    return distance"
   ]
  },
  {
   "cell_type": "markdown",
   "id": "ccd59d4e",
   "metadata": {},
   "source": [
    "### Primeri izračunov Jaro-Winklerjeve razdalje\n",
    "Poigraj se z vrednostmi parametrov l in p"
   ]
  },
  {
   "cell_type": "code",
   "execution_count": 48,
   "id": "a90e792e",
   "metadata": {},
   "outputs": [
    {
     "data": {
      "text/plain": [
       "0.6722222222222223"
      ]
     },
     "execution_count": 48,
     "metadata": {},
     "output_type": "execute_result"
    }
   ],
   "source": [
    "a = 'telefon'\n",
    "b = 'lepota'\n",
    "jaro_winkler(a, b, l=3, p=0.1)"
   ]
  },
  {
   "cell_type": "code",
   "execution_count": 49,
   "id": "3d9a361d",
   "metadata": {},
   "outputs": [
    {
     "data": {
      "text/plain": [
       "0.8099999999999999"
      ]
     },
     "execution_count": 49,
     "metadata": {},
     "output_type": "execute_result"
    }
   ],
   "source": [
    "a = 'rezultat'\n",
    "b = 'konzulat'\n",
    "jaro_winkler(a, b, l=4, p=0.1) # Poskusi z vrednostmi za p, ki so večje od 0.25. Kaj se zgodi z vrednostjo razdalje?"
   ]
  },
  {
   "cell_type": "code",
   "execution_count": 50,
   "id": "5a568336",
   "metadata": {},
   "outputs": [
    {
     "data": {
      "text/plain": [
       "1.0"
      ]
     },
     "execution_count": 50,
     "metadata": {},
     "output_type": "execute_result"
    }
   ],
   "source": [
    "a = 'rezultat'\n",
    "b = 'rezultat'\n",
    "jaro_winkler(a, b, l=3, p=0.1)"
   ]
  },
  {
   "cell_type": "code",
   "execution_count": 51,
   "id": "6a12c052",
   "metadata": {},
   "outputs": [
    {
     "data": {
      "text/plain": [
       "0.9111111111111111"
      ]
     },
     "execution_count": 51,
     "metadata": {},
     "output_type": "execute_result"
    }
   ],
   "source": [
    "a = \"Mannhaton\"\n",
    "b = \"Manhattan\"\n",
    "jaro_winkler(a, b, l=4, p=0.1) # Poskusi z različnimi vrednostmi za l. Kaj se zgodi z vrednostjo razdalje?"
   ]
  }
 ],
 "metadata": {
  "kernelspec": {
   "display_name": "Python 3",
   "language": "python",
   "name": "python3"
  },
  "language_info": {
   "codemirror_mode": {
    "name": "ipython",
    "version": 3
   },
   "file_extension": ".py",
   "mimetype": "text/x-python",
   "name": "python",
   "nbconvert_exporter": "python",
   "pygments_lexer": "ipython3",
   "version": "3.8.8"
  }
 },
 "nbformat": 4,
 "nbformat_minor": 5
}
